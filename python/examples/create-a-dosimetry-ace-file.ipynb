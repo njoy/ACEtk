{
 "cells": [
  {
   "cell_type": "markdown",
   "metadata": {},
   "source": [
    "# Creating a dosimetry ACE file using ACEtk\n",
    "\n",
    "In this example, we will create a dosimetry ACE file (also known as a type 'y' file) for a single nuclide using only ENDFtk and ACEtk. The dosimetry ACE file is a very simple ACE file containing a list of reaction numbers and associated cross section data sets. Contrary to the continuous energy table upon which it is based, the dosimetry file cross section data is not given on a unionised grid and the energy grid of each cross section stored in the file may be different.\n",
    "\n",
    "For the purpose of this example, we assume that you have used NJOY2016 to generate a linearised PENDF file. This PENDF file contains the MF3 and MF10 data for a single nuclide. The first thing we will need to know is what the name of the PENDF file is, and which nuclide we're looking at."
   ]
  },
  {
   "cell_type": "code",
   "execution_count": null,
   "metadata": {},
   "outputs": [],
   "source": [
    "filename = 'Pu239.pendf'\n",
    "z = 94\n",
    "a = 239\n",
    "temperature = 2.53e-8\n",
    "zaid = '94239.00y'\n",
    "title = 'a dosimetry file for pu239 at 293.6 K'\n",
    "date = '10/29/21'\n",
    "material = ''"
   ]
  },
  {
   "cell_type": "markdown",
   "metadata": {},
   "source": [
    "We will now open the PENDF file using ENDFtk and loop over the MF3 and MF10 data and generate the data to be included in the ACE file using components from ACEtk. We will need to ensure that the order of the MT numbers is respected between the list of reaction numbers and the list of cross section data sets."
   ]
  },
  {
   "cell_type": "code",
   "execution_count": null,
   "metadata": {},
   "outputs": [],
   "source": [
    "import ENDFtk\n",
    "import ACEtk\n",
    "\n",
    "pendf = ENDFtk.tree.Tape.from_file( filename )\n",
    "mf3 = pendf.materials.front().file( 3 ).parse()\n",
    "\n",
    "# this is the list of MT numbers found in the PENDF file\n",
    "numbers = []\n",
    "# this is the corresponding list of DosimetryCrossSectionData objects\n",
    "xs = []\n",
    "\n",
    "# loop over each section and extract what we need\n",
    "for section in mf3.sections :\n",
    "    \n",
    "    print( 'processing reaction number:', section.MT )\n",
    "    numbers.append( section.MT )\n",
    "    xs.append( ACEtk.dosimetry.CrossSectionData( energies = section.energies.to_list(),\n",
    "                                                 xs = section.cross_sections.to_list() ) )"
   ]
  },
  {
   "cell_type": "markdown",
   "metadata": {},
   "source": [
    "At this point, we now have a ```numbers``` and ```xs``` list that we need to create the ACE file. We still need to create the header before we can make the ACE file"
   ]
  },
  {
   "cell_type": "code",
   "execution_count": null,
   "metadata": {},
   "outputs": [],
   "source": [
    "# get the atomic weight ratio from the last section we read\n",
    "awr = section.AWR\n",
    "\n",
    "# create a header\n",
    "header = ACEtk.Header( zaid, awr, temperature, date, title, material )\n",
    "\n",
    "# create the blocks we need for the ACE file\n",
    "mtr = ACEtk.continuous.ReactionNumberBlock( numbers )\n",
    "sigp = ACEtk.dosimetry.CrossSectionBlock( xs )\n",
    "\n",
    "# create the file and write it to disk\n",
    "ace = ACEtk.DosimetryTable( z, a, header, mtr, sigp )\n",
    "ace.to_file( 'pu239.ace.00y' )"
   ]
  },
  {
   "cell_type": "code",
   "execution_count": null,
   "metadata": {},
   "outputs": [],
   "source": []
  }
 ],
 "metadata": {
  "kernelspec": {
   "display_name": "Python 3",
   "language": "python",
   "name": "python3"
  },
  "language_info": {
   "codemirror_mode": {
    "name": "ipython",
    "version": 3
   },
   "file_extension": ".py",
   "mimetype": "text/x-python",
   "name": "python",
   "nbconvert_exporter": "python",
   "pygments_lexer": "ipython3",
   "version": "3.8.8"
  }
 },
 "nbformat": 4,
 "nbformat_minor": 2
}
