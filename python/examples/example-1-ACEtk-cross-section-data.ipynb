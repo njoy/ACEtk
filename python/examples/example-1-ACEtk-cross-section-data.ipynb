{
 "cells": [
  {
   "cell_type": "code",
   "execution_count": null,
   "id": "d34995f3",
   "metadata": {},
   "outputs": [],
   "source": [
    "import ACEtk\n",
    "\n",
    "ace = ACEtk.ContinuousEnergyTable.from_file( 'resources/94239.710nc' )\n",
    "\n",
    "# extract the n,4n cross section for Pu239\n",
    "index = ace.reaction_number_block.index( 37 )\n",
    "offset = ace.cross_section_block.energy_index( index )\n",
    "energies = ace.principal_cross_section_block.energies[ offset - 1: ]\n",
    "values = ace.cross_section_block.cross_sections( index )\n",
    "\n",
    "# print out a cross section table\n",
    "print( '{:^12} | {:^12}'.format( 'energy', 'xs' ) )\n",
    "print( '{:12} | {:12}'.format( '-' * 12, '-' * 12 ) )\n",
    "for energy, value in zip( energies, values ) :\n",
    "    \n",
    "    print( '{:12.5e} | {:12.5e}'.format( energy, value ) )"
   ]
  },
  {
   "cell_type": "code",
   "execution_count": null,
   "id": "1335c903",
   "metadata": {},
   "outputs": [],
   "source": [
    "# use interactive plotting\n",
    "# ensure that ipympl is installed -> \"conda install -c conda-forge ipympl\" (for anaconda)\n",
    "# restart jupyter if required\n",
    "%matplotlib widget"
   ]
  },
  {
   "cell_type": "code",
   "execution_count": null,
   "id": "f57031f6",
   "metadata": {},
   "outputs": [],
   "source": [
    "import ACEtk\n",
    "import matplotlib.pyplot as plot\n",
    "\n",
    "# open the ACE file for each nuclide\n",
    "U238 = ACEtk.ContinuousEnergyTable.from_file( 'resources/92238.710nc' )\n",
    "Pu239 = ACEtk.ContinuousEnergyTable.from_file( 'resources/94239.710nc' )\n",
    "Pu240 = ACEtk.ContinuousEnergyTable.from_file( 'resources/94240.710nc' )\n",
    "Pu242 = ACEtk.ContinuousEnergyTable.from_file( 'resources/94242.710nc' )\n",
    "O16 = ACEtk.ContinuousEnergyTable.from_file( 'resources/8016.710nc' )\n",
    "\n",
    "# plot the data\n",
    "plot.figure()\n",
    "plot.plot( U238.ESZ.energies, U238.ESZ.total, label = '$^{238}$U', color = 'red', linewidth = 1.0 )\n",
    "plot.plot( Pu239.ESZ.energies, Pu239.ESZ.total, label = 'Pu239', color = 'green', linewidth = 1.0 )\n",
    "plot.plot( Pu240.ESZ.energies, Pu240.ESZ.total, label = 'Pu240', color = 'blue', linewidth = 1.0 )\n",
    "plot.plot( Pu242.ESZ.energies, Pu242.ESZ.total, label = 'Pu242', color = 'orange', linewidth = 1.0 )\n",
    "plot.plot( O16.ESZ.energies, O16.ESZ.total, label = 'O16', color = 'olive', linewidth = 1.0 )\n",
    "plot.xlabel( 'Energy (MeV)' )\n",
    "plot.ylabel( 'Cross Section (b)' )\n",
    "plot.title( 'ENDF/B-VII.1 total cross section at 293.6 K' )\n",
    "plot.xlim( 1e-11, 10 )\n",
    "plot.ylim( 1e-1, 1e+6 )\n",
    "plot.xscale( 'log' )\n",
    "plot.yscale( 'log' )\n",
    "plot.legend()\n",
    "plot.show()"
   ]
  },
  {
   "cell_type": "code",
   "execution_count": null,
   "id": "b1191388",
   "metadata": {},
   "outputs": [],
   "source": [
    "import ACEtk\n",
    "import matplotlib.pyplot as plot\n",
    "\n",
    "# open the ACE file for each temperature\n",
    "temp1 = ACEtk.ContinuousEnergyTable.from_file( 'resources/94239.710nc' )\n",
    "temp2 = ACEtk.ContinuousEnergyTable.from_file( 'resources/94239.712nc' )\n",
    "temp3 = ACEtk.ContinuousEnergyTable.from_file( 'resources/94239.714nc' )\n",
    "\n",
    "# plot the data\n",
    "plot.figure()\n",
    "plot.plot( temp1.ESZ.energies, temp1.ESZ.total, label = '293.6 K', color = 'red', linewidth = 1.0 )\n",
    "plot.plot( temp2.ESZ.energies, temp2.ESZ.total, label = '900 K', color = 'green', linewidth = 1.0 )\n",
    "plot.plot( temp3.ESZ.energies, temp3.ESZ.total, label = '2500 K', color = 'blue', linewidth = 1.0 )\n",
    "plot.xlabel( 'Energy (MeV)' )\n",
    "plot.ylabel( 'Cross Section (b)' )\n",
    "plot.title( 'ENDF/B-VII.1 Pu239 total cross section' )\n",
    "plot.xlim( 1e-11, 10 )\n",
    "plot.ylim( 1e-1, 1e+6 )\n",
    "plot.xscale( 'log' )\n",
    "plot.yscale( 'log' )\n",
    "plot.legend()\n",
    "plot.show()"
   ]
  },
  {
   "cell_type": "code",
   "execution_count": null,
   "id": "0d761674",
   "metadata": {},
   "outputs": [],
   "source": []
  }
 ],
 "metadata": {
  "kernelspec": {
   "display_name": "Python 3",
   "language": "python",
   "name": "python3"
  },
  "language_info": {
   "codemirror_mode": {
    "name": "ipython",
    "version": 3
   },
   "file_extension": ".py",
   "mimetype": "text/x-python",
   "name": "python",
   "nbconvert_exporter": "python",
   "pygments_lexer": "ipython3",
   "version": "3.8.8"
  }
 },
 "nbformat": 4,
 "nbformat_minor": 5
}
