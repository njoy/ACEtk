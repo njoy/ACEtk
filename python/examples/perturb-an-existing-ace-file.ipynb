{
 "cells": [
  {
   "cell_type": "markdown",
   "metadata": {},
   "source": [
    "# Perturbing an existing ACE file\n",
    "\n",
    "In this example, we will take an existing incident neutron ACE file and modify a single reaction's cross section data by 250%.\n",
    "\n",
    "The first thing we will need is the name of the ACE file that we want to perturb, the energy range over which to perform the perturbation, the MT number of the reaction we wish to change and the scaling factor we wish to apply. For the energy values, we have chosen energy values that are present in the common energy grid (for the purpose of simplicity)."
   ]
  },
  {
   "cell_type": "code",
   "execution_count": null,
   "metadata": {},
   "outputs": [],
   "source": [
    "filename = '2003.710nc'\n",
    "perturbedfilename = '2003.perturbed.710nc'\n",
    "mt = 103\n",
    "lower = 1e-8 # 1e-2 eV\n",
    "upper = 1.2  # 1.2 MeV\n",
    "scale = 2.5"
   ]
  },
  {
   "cell_type": "markdown",
   "metadata": {},
   "source": [
    "We will now load the ACE file and retrieve the reaction index for the reaction that we wish to perturb. The reaction index can be retrieved from the MTR block (containing the list of MT numbers available in the ACE file). The MTR block interface provides a function that allows us to check for the presence of a given MT number before asking for the actual index. When the requested MT number is not present, the index function will throw an exception. The index returned will be a 1-based index."
   ]
  },
  {
   "cell_type": "code",
   "execution_count": null,
   "metadata": {},
   "outputs": [],
   "source": [
    "import ACEtk\n",
    "\n",
    "he3 = ACEtk.ContinuousEnergyTable.from_file( filename )\n",
    "index = he3.MTR.index( mt )\n",
    "\n",
    "print( he3.MTR.reaction_numbers.to_list() )\n",
    "print( index )"
   ]
  },
  {
   "cell_type": "markdown",
   "metadata": {},
   "source": [
    "Note: Since we need to perturb an energy range, we are required to add energy points to the common energy grid and therefore modify the all the data that depends on this (i.e. the ESZ block with the common energy grid, the cross sections stored in the SIG block and some of the data associated with the secondary photons and the secondary particle types). For the purpose of this example, we will not do this as this would unnecessarily complicate things.\n",
    "\n",
    "We will now retrieve the index of the two energy points that constitute the range in which we wish to make the perturbation. The indices returned are 0-based since we use the built-in index() function on a Python list."
   ]
  },
  {
   "cell_type": "code",
   "execution_count": null,
   "metadata": {},
   "outputs": [],
   "source": [
    "energies = he3.ESZ.energies.to_list()\n",
    "start = energies.index( lower )\n",
    "stop = energies.index( upper )\n",
    "\n",
    "print( start, stop )"
   ]
  },
  {
   "cell_type": "markdown",
   "metadata": {},
   "source": [
    "We will now retrieve the cross section data for the reaction we wish to modify and generate new cross section data that will replace the old data by scaling the cross section directly. Since we are not adding new energy points, we do not need to add any additional cross section values or update the energy index."
   ]
  },
  {
   "cell_type": "code",
   "execution_count": null,
   "metadata": {},
   "outputs": [],
   "source": [
    "oldxs = he3.SIG.cross_section_data( index )\n",
    "newxsvalues = oldxs.cross_sections.to_list()\n",
    "for i in range( start, stop + 1 ) : newxsvalues[i] *= scale\n",
    "\n",
    "newxs = ACEtk.continuous.CrossSectionData( index = oldxs.energy_index, values = newxsvalues )"
   ]
  },
  {
   "cell_type": "markdown",
   "metadata": {},
   "source": [
    "Next, we will retrieve all the cross section stored in the SIG block and replace the old cross section data with the newly created data."
   ]
  },
  {
   "cell_type": "code",
   "execution_count": null,
   "metadata": {},
   "outputs": [],
   "source": [
    "xs = he3.SIG.data\n",
    "xs[index - 1] = newxs # the data is a python list so we need a 0-based index"
   ]
  },
  {
   "cell_type": "markdown",
   "metadata": {},
   "source": [
    "We are now ready to create a new ACE file based on the old one. The ACE file contains a lot of internal locators and the constructors of the various components will take care of readjusting the locators if required. Since we did not add any energy points to the common energy grid, the locators will actually not be changed. The original ACE file also contained secondary particle distribution data but for the sake of simnplicity, the example does not cover over the data for the secondary particles except for the incident particle type."
   ]
  },
  {
   "cell_type": "code",
   "execution_count": null,
   "metadata": {},
   "outputs": [],
   "source": [
    "newhe3 = ACEtk.ContinuousEnergyTable( \n",
    "           header = he3.header, z = he3.Z, a = he3.A,\n",
    "           esz = he3.ESZ, mtr = he3.MTR, lqr = he3.LQR,\n",
    "           sig = ACEtk.continuous.CrossSectionBlock( xs ),\n",
    "           ang = he3.AND, dlw = he3.DLW )\n",
    "newhe3.to_file( perturbedfilename )"
   ]
  },
  {
   "cell_type": "markdown",
   "metadata": {},
   "source": [
    "To illustrate that the new file is now readable, we will now open the created ACE file and extract the modified cross section data to plot it against the old data."
   ]
  },
  {
   "cell_type": "code",
   "execution_count": null,
   "metadata": {},
   "outputs": [],
   "source": [
    "newhe3 = ACEtk.ContinuousEnergyTable.from_file( perturbedfilename )\n",
    "index = he3.MTR.index( mt )\n",
    "\n",
    "print( he3.MTR.reaction_numbers.to_list() )\n",
    "print( index )"
   ]
  },
  {
   "cell_type": "code",
   "execution_count": null,
   "metadata": {},
   "outputs": [],
   "source": [
    "import matplotlib.pyplot as plot\n",
    "\n",
    "plot.plot( energies, oldxs.cross_sections, label = 'original' )\n",
    "plot.plot( energies, newhe3.SIG.cross_section_data( index ).cross_sections, label = 'perturbed' )\n",
    "plot.xlabel( 'Energy (MeV)' )\n",
    "plot.ylabel( 'Cross Section (b)' )\n",
    "plot.title( 'He3 n,p' )\n",
    "plot.xscale( 'log' )\n",
    "plot.yscale( 'log' )\n",
    "plot.legend()\n",
    "plot.show()"
   ]
  },
  {
   "cell_type": "code",
   "execution_count": null,
   "metadata": {},
   "outputs": [],
   "source": []
  }
 ],
 "metadata": {
  "kernelspec": {
   "display_name": "Python 3",
   "language": "python",
   "name": "python3"
  },
  "language_info": {
   "codemirror_mode": {
    "name": "ipython",
    "version": 3
   },
   "file_extension": ".py",
   "mimetype": "text/x-python",
   "name": "python",
   "nbconvert_exporter": "python",
   "pygments_lexer": "ipython3",
   "version": "3.8.8"
  }
 },
 "nbformat": 4,
 "nbformat_minor": 2
}
