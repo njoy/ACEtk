{
 "cells": [
  {
   "cell_type": "code",
   "execution_count": null,
   "id": "ffae5bef",
   "metadata": {},
   "outputs": [],
   "source": [
    "import ACEtk\n",
    "import matplotlib.pyplot as plot"
   ]
  },
  {
   "cell_type": "code",
   "execution_count": null,
   "id": "ff37efb9",
   "metadata": {},
   "outputs": [],
   "source": [
    "# use interactive plotting\n",
    "# ensure that ipympl is installed -> \"conda install -c conda-forge ipympl\" (for anaconda)\n",
    "# restart jupyter if required\n",
    "%matplotlib widget"
   ]
  },
  {
   "cell_type": "code",
   "execution_count": null,
   "id": "1cfe82b3",
   "metadata": {},
   "outputs": [],
   "source": [
    "U235 = ACEtk.ContinuousEnergyTable.from_file( '/Users/wim/Projects/libraries/ace/Lib80x/U/92235.800nc' )"
   ]
  },
  {
   "cell_type": "code",
   "execution_count": null,
   "id": "f4e5c147",
   "metadata": {},
   "outputs": [],
   "source": [
    "U235.reaction_number_block.reaction_numbers.to_list()"
   ]
  },
  {
   "cell_type": "code",
   "execution_count": null,
   "id": "fd64690f",
   "metadata": {},
   "outputs": [],
   "source": [
    "energies = U235.principal_cross_section_block.energies\n",
    "total = U235.principal_cross_section_block.total"
   ]
  },
  {
   "cell_type": "code",
   "execution_count": null,
   "id": "5f010617",
   "metadata": {},
   "outputs": [],
   "source": [
    "# plot the data\n",
    "plot.figure()\n",
    "plot.plot( energies, total, label = '${}^{235}$U total', color = 'red', linewidth = 1.0 )\n",
    "plot.xlabel( 'Energy (MeV)' )\n",
    "plot.ylabel( 'Cross Section (b)' )\n",
    "plot.xscale( 'log' )\n",
    "plot.yscale( 'log' )\n",
    "plot.legend()\n",
    "plot.show()"
   ]
  },
  {
   "cell_type": "code",
   "execution_count": null,
   "id": "b7713096",
   "metadata": {},
   "outputs": [],
   "source": [
    "i18 = U235.reaction_number_block.index( reaction = 18 )\n",
    "fission = U235.cross_section_block.cross_sections( i18 )"
   ]
  },
  {
   "cell_type": "code",
   "execution_count": null,
   "id": "3aa044ae",
   "metadata": {},
   "outputs": [],
   "source": [
    "# plot the data\n",
    "plot.figure()\n",
    "plot.plot( energies, total, label = '${}^{235}$U total', color = 'red', linewidth = 1.0 )\n",
    "plot.plot( energies, fission, label = '${}^{235}$U fission', color = 'green', linewidth = 1.0 )\n",
    "plot.xlabel( 'Energy (MeV)' )\n",
    "plot.ylabel( 'Cross Section (b)' )\n",
    "plot.xscale( 'log' )\n",
    "plot.yscale( 'log' )\n",
    "plot.legend()\n",
    "plot.show()"
   ]
  },
  {
   "cell_type": "code",
   "execution_count": null,
   "id": "b12e4fb8",
   "metadata": {},
   "outputs": [],
   "source": [
    "U238 = ACEtk.ContinuousEnergyTable.from_file( '/Users/wim/Projects/libraries/ace/Lib80x/U/92238.800nc' )"
   ]
  },
  {
   "cell_type": "code",
   "execution_count": null,
   "id": "1b5ab914",
   "metadata": {},
   "outputs": [],
   "source": [
    "energies_u238 = U238.principal_cross_section_block.energies\n",
    "total_u238 = U238.principal_cross_section_block.total"
   ]
  },
  {
   "cell_type": "code",
   "execution_count": null,
   "id": "66831421",
   "metadata": {},
   "outputs": [],
   "source": [
    "# plot the data\n",
    "plot.figure()\n",
    "plot.plot( energies, total, label = '${}^{235}$U total', color = 'red', linewidth = 1.0 )\n",
    "plot.plot( energies_u238, total_u238, label = '${}^{238}$U total', color = 'green', linewidth = 1.0 )\n",
    "plot.xlabel( 'Energy (MeV)' )\n",
    "plot.ylabel( 'Cross Section (b)' )\n",
    "plot.xscale( 'log' )\n",
    "plot.yscale( 'log' )\n",
    "plot.legend()\n",
    "plot.show()"
   ]
  },
  {
   "cell_type": "code",
   "execution_count": null,
   "id": "6e5f33ad",
   "metadata": {},
   "outputs": [],
   "source": [
    "# open the ACE file for each temperature\n",
    "temp1 = ACEtk.ContinuousEnergyTable.from_file( '/Users/wim/Projects/libraries/ace/Lib80x/Pu/94239.800nc' )\n",
    "temp2 = ACEtk.ContinuousEnergyTable.from_file( '/Users/wim/Projects/libraries/ace/Lib80x/Pu/94239.802nc' )\n",
    "temp3 = ACEtk.ContinuousEnergyTable.from_file( '/Users/wim/Projects/libraries/ace/Lib80x/Pu/94239.804nc' )"
   ]
  },
  {
   "cell_type": "code",
   "execution_count": null,
   "id": "aa9e708f",
   "metadata": {},
   "outputs": [],
   "source": [
    "print( temp1.header.temperature )\n",
    "print( temp2.header.temperature )\n",
    "print( temp3.header.temperature )"
   ]
  },
  {
   "cell_type": "code",
   "execution_count": null,
   "id": "c702918e",
   "metadata": {},
   "outputs": [],
   "source": [
    "# plot the data\n",
    "plot.figure()\n",
    "plot.plot( temp1.principal_cross_section_block.energies, \n",
    "           temp1.principal_cross_section_block.total, label = '${}^{239}$Pu total - 293.6 K', color = 'red', linewidth = 1.0 )\n",
    "plot.plot( temp2.principal_cross_section_block.energies, \n",
    "           temp2.principal_cross_section_block.total, label = '${}^{239}$Pu total - 900 K', color = 'green', linewidth = 1.0 )\n",
    "plot.plot( temp3.principal_cross_section_block.energies, \n",
    "           temp3.principal_cross_section_block.total, label = '${}^{239}$Pu total - 2500 K', color = 'blue', linewidth = 1.0 )\n",
    "plot.xlabel( 'Energy (MeV)' )\n",
    "plot.ylabel( 'Cross Section (b)' )\n",
    "plot.xscale( 'log' )\n",
    "plot.yscale( 'log' )\n",
    "plot.legend()\n",
    "plot.show()"
   ]
  },
  {
   "cell_type": "code",
   "execution_count": null,
   "id": "12c294c1",
   "metadata": {},
   "outputs": [],
   "source": [
    "Pu239 = ACEtk.ContinuousEnergyTable.from_file( '/Users/wim/Projects/libraries/ace/Lib80x/Pu/94239.800nc' )\n",
    "\n",
    "elastic = Pu239.angular_distribution_block.angular_distribution_data( 0 )\n",
    "elastic.incident_energies.to_list()"
   ]
  },
  {
   "cell_type": "code",
   "execution_count": null,
   "id": "1507df37",
   "metadata": {},
   "outputs": [],
   "source": [
    "print( elastic.distribution( 1 ).energy )\n",
    "print( elastic.distribution( 14 ).energy )\n",
    "print( elastic.distribution( 23 ).energy )\n",
    "print( elastic.distribution( 28 ).energy )"
   ]
  },
  {
   "cell_type": "code",
   "execution_count": null,
   "id": "7cdccf4b",
   "metadata": {},
   "outputs": [],
   "source": [
    "# plot the data\n",
    "plot.figure()\n",
    "plot.plot( elastic.distribution( 1 ).cosines, elastic.distribution( 1 ).pdf, label = '1e-5 eV', color = 'red', linewidth = 1.0 )\n",
    "plot.plot( elastic.distribution( 14 ).cosines, elastic.distribution( 14 ).pdf, label = '1 MeV', color = 'green', linewidth = 1.0 )\n",
    "plot.plot( elastic.distribution( 23 ).cosines, elastic.distribution( 23 ).pdf, label = '5 MeV', color = 'blue', linewidth = 1.0 )\n",
    "plot.plot( elastic.distribution( 28 ).cosines, elastic.distribution( 28 ).pdf, label = '10 MeV', color = 'orange', linewidth = 1.0 )\n",
    "plot.xlabel( 'Cosine' )\n",
    "plot.ylabel( 'Probability' )\n",
    "plot.title( 'ENDF/B-VIII.0 Pu239 elastic angular distributions' )\n",
    "plot.yscale( 'log' )\n",
    "plot.legend()\n",
    "plot.show()"
   ]
  },
  {
   "cell_type": "code",
   "execution_count": null,
   "id": "72cf861c",
   "metadata": {},
   "outputs": [],
   "source": [
    "print( elastic.distribution( 33 ).energy )"
   ]
  },
  {
   "cell_type": "code",
   "execution_count": null,
   "id": "fc381e06",
   "metadata": {},
   "outputs": [],
   "source": [
    "# plot the data\n",
    "plot.figure()\n",
    "plot.plot( elastic.distribution( 33 ).cosines, elastic.distribution( 33 ).pdf, label = '20 MeV', color = 'red', linewidth = 1.0 )\n",
    "plot.xlabel( 'Cosine' )\n",
    "plot.ylabel( 'Probability' )\n",
    "plot.title( 'ENDF/B-VIII.0 Pu239 elastic angular distributions' )\n",
    "plot.yscale( 'log' )\n",
    "plot.legend()\n",
    "plot.show()"
   ]
  },
  {
   "cell_type": "code",
   "execution_count": null,
   "id": "484f399e",
   "metadata": {},
   "outputs": [],
   "source": []
  }
 ],
 "metadata": {
  "kernelspec": {
   "display_name": "Python 3",
   "language": "python",
   "name": "python3"
  },
  "language_info": {
   "codemirror_mode": {
    "name": "ipython",
    "version": 3
   },
   "file_extension": ".py",
   "mimetype": "text/x-python",
   "name": "python",
   "nbconvert_exporter": "python",
   "pygments_lexer": "ipython3",
   "version": "3.8.8"
  }
 },
 "nbformat": 4,
 "nbformat_minor": 5
}
